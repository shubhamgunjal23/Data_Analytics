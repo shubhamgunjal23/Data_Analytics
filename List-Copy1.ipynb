{
 "cells": [
  {
   "cell_type": "code",
   "execution_count": 33,
   "metadata": {},
   "outputs": [
    {
     "name": "stdout",
     "output_type": "stream",
     "text": [
      "Chirag\n",
      "30\n",
      "c\n",
      "Third list length: 5\n",
      "Maximum NO of Second list: 6\n",
      "Minimum NO of Second list: 1\n",
      "6\n",
      "4\n"
     ]
    }
   ],
   "source": [
    "list1=['Shubham','Roshan','Chirag',2003,2002,2001];\n",
    "list2=[1,2,3,4,5,6];\n",
    "list3=[\"a\",\"b\",\"c\",\"d\",\"e\"];\n",
    "\n",
    "print(list1[-4])\n",
    "print(list2[5]*5)\n",
    "print(list3[-3])\n",
    "\n",
    "print(\"Third list length:\",len(list3))\n",
    "print(\"Maximum NO of Second list:\",max(list2))\n",
    "print(\"Minimum NO of Second list:\",min(list2))\n",
    "print(list2.pop())\n",
    "print(list2.pop(3))\n",
    "\n",
    "\n",
    "\n"
   ]
  },
  {
   "cell_type": "code",
   "execution_count": 34,
   "metadata": {},
   "outputs": [
    {
     "name": "stdout",
     "output_type": "stream",
     "text": [
      "4\n"
     ]
    }
   ],
   "source": [
    "list2=[1,2,3,4,5,6,7,8,9];\n",
    "print(list2.pop(3))\n"
   ]
  },
  {
   "cell_type": "code",
   "execution_count": null,
   "metadata": {},
   "outputs": [],
   "source": []
  }
 ],
 "metadata": {
  "kernelspec": {
   "display_name": "Python 3",
   "language": "python",
   "name": "python3"
  },
  "language_info": {
   "codemirror_mode": {
    "name": "ipython",
    "version": 3
   },
   "file_extension": ".py",
   "mimetype": "text/x-python",
   "name": "python",
   "nbconvert_exporter": "python",
   "pygments_lexer": "ipython3",
   "version": "3.7.0"
  }
 },
 "nbformat": 4,
 "nbformat_minor": 2
}
