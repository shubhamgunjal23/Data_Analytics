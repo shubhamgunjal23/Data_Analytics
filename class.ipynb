{
 "cells": [
  {
   "cell_type": "code",
   "execution_count": 13,
   "metadata": {},
   "outputs": [
    {
     "name": "stdout",
     "output_type": "stream",
     "text": [
      "Class C run\n",
      "Class C function fun3 run\n",
      "Class B function fun2 run\n",
      "Class A function fun1 run\n"
     ]
    }
   ],
   "source": [
    "class A:\n",
    "    def __init__(self):\n",
    "        print(\"Class A run\")\n",
    "        \n",
    "    def fun1(self):\n",
    "        print(\"Class A function fun1 run\")\n",
    "        \n",
    "class B(A):\n",
    "    def __init__(self):\n",
    "        print(\"Class B run\")\n",
    "        \n",
    "    def fun2(self):\n",
    "        print(\"Class B function fun2 run\")\n",
    "        \n",
    "class C(B):\n",
    "    def __init__(self):\n",
    "        print(\"Class C run\")\n",
    "        \n",
    "    def fun3(self):\n",
    "        print(\"Class C function fun3 run\")\n",
    "\n",
    "        \n",
    "obj3=C()\n",
    "\n",
    "obj3.fun3()\n",
    "obj3.fun2()\n",
    "obj3.fun1()"
   ]
  },
  {
   "cell_type": "code",
   "execution_count": 9,
   "metadata": {},
   "outputs": [
    {
     "name": "stdout",
     "output_type": "stream",
     "text": [
      "Class A function fun1 run\n",
      "Class A function fun1 run\n",
      "Class B function fun2 run\n",
      "Class A function fun1 run\n",
      "Class B function fun2 run\n",
      "Class C function fun3 run\n"
     ]
    }
   ],
   "source": [
    "obj1.fun1()\n",
    "obj2.fun1()\n",
    "obj2.fun2()\n",
    "obj3.fun1()\n",
    "obj3.fun2()\n",
    "obj3.fun3()"
   ]
  },
  {
   "cell_type": "code",
   "execution_count": 11,
   "metadata": {},
   "outputs": [
    {
     "name": "stdout",
     "output_type": "stream",
     "text": [
      "Class C function fun3 run\n"
     ]
    }
   ],
   "source": [
    "obj3.fun3()"
   ]
  },
  {
   "cell_type": "code",
   "execution_count": 20,
   "metadata": {},
   "outputs": [
    {
     "name": "stdout",
     "output_type": "stream",
     "text": [
      "Class C run\n",
      "Class C function fun3 run\n",
      "Class A function fun1 run\n"
     ]
    }
   ],
   "source": [
    "class A:\n",
    "    def __init__(self):\n",
    "        print(\"Class A run\")\n",
    "        \n",
    "    def fun1(self):\n",
    "        print(\"Class A function fun1 run\")\n",
    "        \n",
    "class B(A):\n",
    "    def __init__(self):\n",
    "        print(\"Class B run\")\n",
    "        \n",
    "    def fun2(self):\n",
    "        print(\"Class B function fun2 run\")\n",
    "        \n",
    "class C(A):\n",
    "    def __init__(self):\n",
    "        print(\"Class C run\")\n",
    "        \n",
    "    def fun3(self):\n",
    "        print(\"Class C function fun3 run\")\n",
    "\n",
    "\n",
    "obj3=C()\n",
    "obj3.fun3()\n",
    "obj3.fun1()"
   ]
  },
  {
   "cell_type": "code",
   "execution_count": 27,
   "metadata": {},
   "outputs": [
    {
     "name": "stdout",
     "output_type": "stream",
     "text": [
      "Class C run\n",
      "Class C function fun3 run\n",
      "Class A function fun1\n",
      "Class B function fun2 run\n"
     ]
    }
   ],
   "source": [
    "class A:\n",
    "    def __init__(self):\n",
    "        print(\"Class A run\")\n",
    "        \n",
    "    def fun1(self):\n",
    "        print(\"Class A function fun1\")\n",
    "        \n",
    "class B:\n",
    "    def __init__(self):\n",
    "        print(\"Class B run\")\n",
    "        \n",
    "    def fun2(self):\n",
    "        print(\"Class B function fun2 run\")\n",
    "        \n",
    "class C(A,B):\n",
    "    def __init__(self):\n",
    "        print(\"Class C run\")\n",
    "        \n",
    "    def fun3(self):\n",
    "        print(\"Class C function fun3 run\")\n",
    "\n",
    "\n",
    "obj3=C()\n",
    "obj3.fun3()\n",
    "obj3.fun1()\n",
    "obj3.fun2()"
   ]
  },
  {
   "cell_type": "code",
   "execution_count": 32,
   "metadata": {},
   "outputs": [
    {
     "name": "stdout",
     "output_type": "stream",
     "text": [
      "Class D run\n",
      "Lokesh\n",
      "Shubham\n",
      "Chirag\n",
      "Roshan\n"
     ]
    }
   ],
   "source": [
    "class A:\n",
    "    def __init__(self):\n",
    "        print(\"Class A run\")\n",
    "        \n",
    "    def fun1(self):\n",
    "        print(\"Shubham\")\n",
    "        \n",
    "class B:\n",
    "    def __init__(self):\n",
    "        print(\"Class B run\")\n",
    "        \n",
    "    def fun2(self):\n",
    "        print(\"Chirag\")\n",
    "        \n",
    "class C:\n",
    "    def __init__(self):\n",
    "        print(\"Class C run\")\n",
    "        \n",
    "    def fun3(self):\n",
    "        print(\"Lokesh\")\n",
    "        \n",
    "\n",
    "class D(A,B,C):\n",
    "    def __init__(self):\n",
    "        print(\"Class D run\")\n",
    "        \n",
    "    def fun4(self):\n",
    "        print(\"Roshan\")\n",
    "        \n",
    "obj4=D()\n",
    "obj4.fun3()\n",
    "obj4.fun1()\n",
    "obj4.fun2()\n",
    "obj4.fun4()"
   ]
  },
  {
   "cell_type": "code",
   "execution_count": null,
   "metadata": {},
   "outputs": [],
   "source": []
  }
 ],
 "metadata": {
  "kernelspec": {
   "display_name": "Python 3",
   "language": "python",
   "name": "python3"
  },
  "language_info": {
   "codemirror_mode": {
    "name": "ipython",
    "version": 3
   },
   "file_extension": ".py",
   "mimetype": "text/x-python",
   "name": "python",
   "nbconvert_exporter": "python",
   "pygments_lexer": "ipython3",
   "version": "3.7.0"
  }
 },
 "nbformat": 4,
 "nbformat_minor": 2
}
